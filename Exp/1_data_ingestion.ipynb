{
 "cells": [
  {
   "cell_type": "code",
   "execution_count": 1,
   "metadata": {},
   "outputs": [],
   "source": [
    "import os"
   ]
  },
  {
   "cell_type": "code",
   "execution_count": 2,
   "metadata": {},
   "outputs": [
    {
     "data": {
      "text/plain": [
       "'f:\\\\Files\\\\DS&ML\\\\Flight-Fare-Price-Prediction\\\\Exp'"
      ]
     },
     "execution_count": 2,
     "metadata": {},
     "output_type": "execute_result"
    }
   ],
   "source": [
    "%pwd"
   ]
  },
  {
   "cell_type": "code",
   "execution_count": 3,
   "metadata": {},
   "outputs": [
    {
     "data": {
      "text/plain": [
       "'f:\\\\Files\\\\DS&ML\\\\Flight-Fare-Price-Prediction'"
      ]
     },
     "execution_count": 3,
     "metadata": {},
     "output_type": "execute_result"
    }
   ],
   "source": [
    "os.chdir('../')\n",
    "%pwd"
   ]
  },
  {
   "cell_type": "code",
   "execution_count": 4,
   "metadata": {},
   "outputs": [],
   "source": [
    "from dataclasses import dataclass\n",
    "from pathlib import Path\n",
    "\n",
    "@dataclass(frozen=True)\n",
    "class DataIngestionConfig:\n",
    "    root_dir:Path\n",
    "    source_URL:str\n",
    "    local_data_file:Path\n",
    "    unzip_dir:Path"
   ]
  },
  {
   "cell_type": "code",
   "execution_count": 5,
   "metadata": {},
   "outputs": [],
   "source": [
    "from mlproject.constants import *\n",
    "from mlproject.utils.common import read_yaml, create_directories"
   ]
  },
  {
   "cell_type": "code",
   "execution_count": 6,
   "metadata": {},
   "outputs": [],
   "source": [
    "class ConfigurationManager:\n",
    "    def __init__(\n",
    "        self,\n",
    "        config_filepath = CONFIG_FILE_PATH,\n",
    "        params_filepath = PARAMS_FILE_PATH,\n",
    "        schema_filepath = SCHEMA_FILE_PATH):\n",
    "\n",
    "        self.config = read_yaml(config_filepath)\n",
    "        self.params = read_yaml(params_filepath)\n",
    "        self.schema = read_yaml(schema_filepath)\n",
    "\n",
    "        create_directories([self.config.artifacts_root])\n",
    "\n",
    "\n",
    "    \n",
    "    def get_data_ingestion_config(self) -> DataIngestionConfig:\n",
    "        config = self.config.data_ingestion\n",
    "\n",
    "        create_directories([config.root_dir])\n",
    "\n",
    "        data_ingestion_config = DataIngestionConfig(\n",
    "            root_dir=config.root_dir,\n",
    "            source_URL=config.source_URL,\n",
    "            local_data_file=config.local_data_file,\n",
    "            unzip_dir=config.unzip_dir \n",
    "        )\n",
    "\n",
    "        return data_ingestion_config"
   ]
  },
  {
   "cell_type": "code",
   "execution_count": 7,
   "metadata": {},
   "outputs": [],
   "source": [
    "import urllib.request as request\n",
    "import zipfile\n",
    "from mlproject import logger \n",
    "from mlproject.utils.common import get_size"
   ]
  },
  {
   "cell_type": "code",
   "execution_count": null,
   "metadata": {},
   "outputs": [],
   "source": [
    "class DataIngestion:\n",
    "    def __init__(self, config: DataIngestionConfig):\n",
    "        self.config = config\n",
    "    def download_file(self):\n",
    "        logger.info(f\"Checking if directory exists: {os.path.exists(self.config.root_dir)}\")\n",
    "        if not os.path.exists(self.config.local_data_file):\n",
    "            filename, headers = request.urlretrieve(\n",
    "                url=self.config.source_URL,\n",
    "                filename=self.config.local_data_file)\n",
    "        else:\n",
    "            logger.info(f\"File already exists: {self.config.local_data_file}, size: {get_size(Path(self.config.local_data_file))}\")\n",
    "\n",
    "    def extract_zip_file(self):\n",
    "        unzip_path = self.config.unzip_dir\n",
    "        os.makedirs(unzip_path, exist_ok=True)\n",
    "        with zipfile.ZipFile(self.config.local_data_file, 'r') as zip_ref:\n",
    "            zip_ref.extractall(unzip_path)\n",
    "        logger.info(f\"Extraction completed to {unzip_path}\")"
   ]
  },
  {
   "cell_type": "code",
   "execution_count": null,
   "metadata": {},
   "outputs": [
    {
     "name": "stdout",
     "output_type": "stream",
     "text": [
      "[2025-04-29 17:18:30,560: INFO: 1811281478: Starting data ingestion pipeline]\n",
      "[2025-04-29 17:18:30,575: INFO: common: yaml file: config\\config.yaml loaded successfully]\n",
      "[2025-04-29 17:18:30,579: INFO: common: yaml file: params.yaml loaded successfully]\n",
      "[2025-04-29 17:18:30,587: INFO: common: yaml file: schema.yaml loaded successfully]\n",
      "[2025-04-29 17:18:30,589: INFO: common: created directory at: artifacts]\n",
      "[2025-04-29 17:18:30,591: INFO: common: created directory at: artifacts/data_ingestion]\n",
      "[2025-04-29 17:18:30,592: INFO: 1811281478: Data ingestion config: DataIngestionConfig(root_dir='artifacts/data_ingestion', source_URL='https://github.com/JavithNaseem-J/Netflix-SQL/raw/refs/heads/main/flight-fare-data.zip', local_data_file='artifacts/data_ingestion/data.zip', unzip_dir='artifacts/data_ingestion')]\n",
      "[2025-04-29 17:18:30,593: INFO: 1811281478: Downloading file...]\n",
      "[2025-04-29 17:18:30,594: INFO: 2438688704: Checking if directory exists: True]\n",
      "[2025-04-29 17:18:30,595: INFO: 2438688704: Downloading from https://github.com/JavithNaseem-J/Netflix-SQL/raw/refs/heads/main/flight-fare-data.zip to artifacts/data_ingestion/data.zip]\n",
      "[2025-04-29 17:22:26,089: INFO: 2438688704: artifacts/data_ingestion/data.zip downloaded with headers: \n",
      "Connection: close\n",
      "Content-Length: 3048232\n",
      "Cache-Control: max-age=300\n",
      "Content-Security-Policy: default-src 'none'; style-src 'unsafe-inline'; sandbox\n",
      "Content-Type: application/zip\n",
      "ETag: \"c0238a75a7a5beb64b9f6ae0634076e4f1056609cfbe703fd9302ed1738fade6\"\n",
      "Strict-Transport-Security: max-age=31536000\n",
      "X-Content-Type-Options: nosniff\n",
      "X-Frame-Options: deny\n",
      "X-XSS-Protection: 1; mode=block\n",
      "X-GitHub-Request-Id: 7052:315BFB:198CC4:33B6DC:6810A9BB\n",
      "Accept-Ranges: bytes\n",
      "Date: Tue, 29 Apr 2025 11:50:02 GMT\n",
      "Via: 1.1 varnish\n",
      "X-Served-By: cache-nrt-rjtf7700059-NRT\n",
      "X-Cache: HIT\n",
      "X-Cache-Hits: 0\n",
      "X-Timer: S1745927402.065273,VS0,VE390\n",
      "Vary: Authorization,Accept-Encoding,Origin\n",
      "Access-Control-Allow-Origin: *\n",
      "Cross-Origin-Resource-Policy: cross-origin\n",
      "X-Fastly-Request-ID: df30b327aa6cc061f3313767d8e9cbcb261b1a83\n",
      "Expires: Tue, 29 Apr 2025 11:55:02 GMT\n",
      "Source-Age: 0\n",
      "\n",
      "]\n",
      "[2025-04-29 17:22:26,095: INFO: 1811281478: Checking if data.zip exists: True]\n",
      "[2025-04-29 17:22:26,099: INFO: 1811281478: Extracting zip file...]\n",
      "[2025-04-29 17:22:26,102: INFO: 2438688704: Extracting artifacts/data_ingestion/data.zip to artifacts/data_ingestion]\n",
      "[2025-04-29 17:22:26,370: INFO: 2438688704: Extraction completed to artifacts/data_ingestion]\n",
      "[2025-04-29 17:22:26,373: INFO: 2438688704: Directory contents after extraction: ['data.zip', 'flight-fare-data.csv']]\n",
      "[2025-04-29 17:22:26,375: INFO: 1811281478: Checking if flight-fare-data.csv exists: True]\n",
      "[2025-04-29 17:22:26,377: INFO: 1811281478: Data ingestion completed successfully]\n"
     ]
    }
   ],
   "source": [
    "try:\n",
    "    config = ConfigurationManager()\n",
    "    data_ingestion_config = config.get_data_ingestion_config()\n",
    "    data_ingestion = DataIngestion(config=data_ingestion_config)\n",
    "    data_ingestion.download_file()\n",
    "    data_ingestion.extract_zip_file()\n",
    "    \n",
    "except Exception as e:\n",
    "    raise e"
   ]
  },
  {
   "cell_type": "code",
   "execution_count": null,
   "metadata": {},
   "outputs": [],
   "source": []
  }
 ],
 "metadata": {
  "kernelspec": {
   "display_name": "flight-fare",
   "language": "python",
   "name": "python3"
  },
  "language_info": {
   "codemirror_mode": {
    "name": "ipython",
    "version": 3
   },
   "file_extension": ".py",
   "mimetype": "text/x-python",
   "name": "python",
   "nbconvert_exporter": "python",
   "pygments_lexer": "ipython3",
   "version": "3.10.16"
  }
 },
 "nbformat": 4,
 "nbformat_minor": 2
}
