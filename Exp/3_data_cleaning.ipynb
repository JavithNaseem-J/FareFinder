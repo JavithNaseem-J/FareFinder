{
 "cells": [
  {
   "cell_type": "code",
   "execution_count": 1,
   "metadata": {},
   "outputs": [],
   "source": [
    "import os"
   ]
  },
  {
   "cell_type": "code",
   "execution_count": 2,
   "metadata": {},
   "outputs": [
    {
     "data": {
      "text/plain": [
       "'f:\\\\Flight-Fare-Price-Prediction\\\\research'"
      ]
     },
     "execution_count": 2,
     "metadata": {},
     "output_type": "execute_result"
    }
   ],
   "source": [
    "pwd%"
   ]
  },
  {
   "cell_type": "code",
   "execution_count": 3,
   "metadata": {},
   "outputs": [],
   "source": [
    "os.chdir(\"../\")"
   ]
  },
  {
   "cell_type": "code",
   "execution_count": 4,
   "metadata": {},
   "outputs": [
    {
     "data": {
      "text/plain": [
       "'f:\\\\Flight-Fare-Price-Prediction'"
      ]
     },
     "execution_count": 4,
     "metadata": {},
     "output_type": "execute_result"
    }
   ],
   "source": [
    "pwd%"
   ]
  },
  {
   "cell_type": "code",
   "execution_count": 5,
   "metadata": {},
   "outputs": [],
   "source": [
    "import pandas as pd\n",
    "from dataclasses import dataclass\n",
    "from pathlib import Path\n",
    "import numpy as np\n",
    "import logging\n",
    "import datetime as dt\n",
    "import os"
   ]
  },
  {
   "cell_type": "code",
   "execution_count": 6,
   "metadata": {},
   "outputs": [],
   "source": [
    "from mlproject import logger"
   ]
  },
  {
   "cell_type": "code",
   "execution_count": 7,
   "metadata": {},
   "outputs": [],
   "source": [
    "from mlproject.constants import *\n",
    "from mlproject.utils.common import *"
   ]
  },
  {
   "cell_type": "code",
   "execution_count": 8,
   "metadata": {},
   "outputs": [],
   "source": [
    "@dataclass(frozen=True)\n",
    "class DataCleaningConfig:\n",
    "    root_dir: Path\n",
    "    input_data_path: Path\n",
    "    cleaned_file: Path \n",
    "    columns_to_drop: list\n",
    "    datetime_columns: list\n",
    "    target_column_mapping: dict"
   ]
  },
  {
   "cell_type": "code",
   "execution_count": 9,
   "metadata": {},
   "outputs": [],
   "source": [
    "class ConfigurationManager:\n",
    "    def __init__(\n",
    "        self,\n",
    "        config_filepath = CONFIG_FILE_PATH,\n",
    "        params_filepath = PARAMS_FILE_PATH,\n",
    "        schema_filepath = SCHEMA_FILE_PATH):\n",
    "\n",
    "        self.config = read_yaml(config_filepath)\n",
    "        self.params = read_yaml(params_filepath)\n",
    "        self.schema = read_yaml(schema_filepath)\n",
    "\n",
    "        create_directories([self.config.artifacts_root])\n",
    "\n",
    "    def get_data_cleaning_config(self) -> DataCleaningConfig:\n",
    "        config = self.config.data_cleaning\n",
    "        schema = self.schema.data_cleaning\n",
    "\n",
    "        create_directories([config.root_dir])\n",
    "\n",
    "        data_cleaning_config = DataCleaningConfig(\n",
    "            root_dir=config.root_dir,\n",
    "            input_data_path=config.input_data,\n",
    "            cleaned_file=config.cleaned_file,\n",
    "            columns_to_drop=schema.columns_to_drop,\n",
    "            datetime_columns=schema.datetime_columns,\n",
    "            target_column_mapping=schema.target_column_mapping\n",
    "        )\n",
    "\n",
    "        return data_cleaning_config"
   ]
  },
  {
   "cell_type": "code",
   "execution_count": null,
   "metadata": {},
   "outputs": [],
   "source": [
    "class DataCleaning:\n",
    "    def __init__(self, config: DataCleaningConfig):\n",
    "        self.config = config\n",
    "\n",
    "    def drop_columns(self, df: pd.DataFrame) -> pd.DataFrame:\n",
    "        logger.info(f\"Dropping columns: {self.config.columns_to_drop}\")\n",
    "        return df.drop(columns=self.config.columns_to_drop, errors='ignore')\n",
    "\n",
    "    def convert_datetime_columns(self, df: pd.DataFrame) -> pd.DataFrame:\n",
    "        df_copy = df.copy()\n",
    "        \n",
    "        for col in self.config.datetime_columns:\n",
    "            if col in df_copy.columns:\n",
    "                try:\n",
    "                    df_copy[col] = pd.to_datetime(df_copy[col])\n",
    "                except Exception as e:\n",
    "                    logger.warning(f\"Could not convert {col} to datetime: {e}\")\n",
    "        \n",
    "        return df_copy\n",
    "\n",
    "    def extract_time_categories(self, df: pd.DataFrame) -> pd.DataFrame:\n",
    "        df_copy = df.copy()\n",
    "        time_mappings = {\n",
    "            \"Departure Date & Time\": \"Departure Time\",\n",
    "            \"Arrival Date & Time\": \"Arrival Time\"\n",
    "        }\n",
    "\n",
    "        for original_col, new_col in time_mappings.items():\n",
    "            if original_col in df_copy.columns:\n",
    "                if not pd.api.types.is_datetime64_dtype(df_copy[original_col]):\n",
    "                    try:\n",
    "                        df_copy[original_col] = pd.to_datetime(df_copy[original_col])\n",
    "                    except Exception as e:\n",
    "                        logger.warning(f\"Could not convert {original_col} to datetime: {e}\")\n",
    "                        continue\n",
    "                \n",
    "                hour_col = f\"{original_col}_hour\"\n",
    "                df_copy[hour_col] = df_copy[original_col].dt.hour\n",
    "\n",
    "                conditions = [\n",
    "                    (df_copy[hour_col] >= 6) & (df_copy[hour_col] < 12),\n",
    "                    (df_copy[hour_col] >= 12) & (df_copy[hour_col] < 18),\n",
    "                    (df_copy[hour_col] >= 18) & (df_copy[hour_col] < 24),\n",
    "                    (df_copy[hour_col] >= 0) & (df_copy[hour_col] < 6)\n",
    "                ]\n",
    "                choices = ['Morning', 'Afternoon', 'Evening', 'Night']\n",
    "                \n",
    "                df_copy[new_col] = pd.Series(\n",
    "                    np.select(conditions, choices, default='Unknown'), \n",
    "                    index=df_copy.index\n",
    "                )\n",
    "                \n",
    "                df_copy.drop(columns=[hour_col], inplace=True)\n",
    "                \n",
    "        return df_copy\n",
    "\n",
    "    def rename_target_column(self, df: pd.DataFrame) -> pd.DataFrame:\n",
    "        return df.rename(columns=self.config.target_column_mapping)\n",
    "        \n",
    "    def log_transform_target(self, df: pd.DataFrame) -> pd.DataFrame:\n",
    "        target_column = \"Total Fare\"\n",
    "        logger.info(f\"Applying log transformation to target column: {target_column}\")\n",
    "        \n",
    "        df_transformed = df.copy()\n",
    "        \n",
    "        if target_column not in df_transformed.columns:\n",
    "            available_cols = df_transformed.columns.tolist()\n",
    "            logger.error(f\"Target column '{target_column}' not found. Available columns: {available_cols}\")\n",
    "            raise ValueError(f\"Target column '{target_column}' not found in dataframe\")\n",
    "        \n",
    "        \n",
    "        \n",
    "        \n",
    "        df_transformed[target_column] = np.log1p(df_transformed[target_column])\n",
    "        logger.info(f\"Log transformation applied to {target_column}\")\n",
    "        \n",
    "        return df_transformed\n",
    "\n",
    "    def clean_data(self) -> None:\n",
    "        try:\n",
    "            logger.info(f\"Reading data from {self.config.input_data_path}\")\n",
    "\n",
    "            df = pd.read_csv(self.config.input_data_path)\n",
    "            \n",
    "            if df is None or df.empty:\n",
    "                logger.error(\"Input data is empty or None\")\n",
    "                raise ValueError(\"Input data is empty or None\")\n",
    "            \n",
    "            logger.info(f\"Original DataFrame shape: {df.shape}\")\n",
    "                \n",
    "            df = self.convert_datetime_columns(df)\n",
    "            df = self.extract_time_categories(df)            \n",
    "            df = self.rename_target_column(df)            \n",
    "            df = self.log_transform_target(df)            \n",
    "            df = self.drop_columns(df)\n",
    "\n",
    "            df.to_csv(self.config.cleaned_file, index=False)\n",
    "            logger.info(\"Data cleaning completed successfully\")\n",
    "\n",
    "        except Exception as e:\n",
    "            logger.error(f\"Error in data cleaning: {e}\")\n",
    "            raise e"
   ]
  },
  {
   "cell_type": "code",
   "execution_count": 11,
   "metadata": {},
   "outputs": [
    {
     "name": "stdout",
     "output_type": "stream",
     "text": [
      "[2025-04-01 00:55:02,176: INFO: common: yaml file: config\\config.yaml loaded successfully]\n",
      "[2025-04-01 00:55:02,181: INFO: common: yaml file: params.yaml loaded successfully]\n",
      "[2025-04-01 00:55:02,194: INFO: common: yaml file: schema.yaml loaded successfully]\n",
      "[2025-04-01 00:55:02,197: INFO: common: created directory at: artifacts]\n",
      "[2025-04-01 00:55:02,197: INFO: common: created directory at: artifacts/data_cleaning]\n",
      "[2025-04-01 00:55:02,197: INFO: 1592436434: Reading data from artifacts/data_ingestion/flight-fare-data.csv]\n",
      "[2025-04-01 00:55:02,439: INFO: 1592436434: Original DataFrame shape: (57000, 17)]\n",
      "[2025-04-01 00:55:02,628: INFO: 1592436434: Applying log transformation to target column: Total Fare]\n",
      "[2025-04-01 00:55:02,639: INFO: 1592436434: Log transformation applied to Total Fare]\n",
      "[2025-04-01 00:55:02,639: INFO: 1592436434: Dropping columns: ['Source Name', 'Destination Name', 'Duration (hrs)', 'Aircraft Type', 'Base Fare (BDT)', 'Tax & Surcharge (BDT)', 'Departure Date & Time', 'Arrival Date & Time']]\n",
      "[2025-04-01 00:55:02,889: INFO: 1592436434: Data cleaning completed successfully]\n"
     ]
    }
   ],
   "source": [
    "try:\n",
    "    config_manager = ConfigurationManager()\n",
    "    data_cleaning_config = config_manager.get_data_cleaning_config()\n",
    "    data_cleaning = DataCleaning(config=data_cleaning_config)\n",
    "    data_cleaning.clean_data()\n",
    "\n",
    "except Exception as e:\n",
    "    logger.error(f\"Data cleaning failed: {e}\")"
   ]
  }
 ],
 "metadata": {
  "kernelspec": {
   "display_name": "flight-fare",
   "language": "python",
   "name": "python3"
  },
  "language_info": {
   "codemirror_mode": {
    "name": "ipython",
    "version": 3
   },
   "file_extension": ".py",
   "mimetype": "text/x-python",
   "name": "python",
   "nbconvert_exporter": "python",
   "pygments_lexer": "ipython3",
   "version": "3.10.16"
  }
 },
 "nbformat": 4,
 "nbformat_minor": 2
}
