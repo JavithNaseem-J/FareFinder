{
 "cells": [
  {
   "cell_type": "code",
   "execution_count": 1,
   "metadata": {},
   "outputs": [],
   "source": [
    "import os\n"
   ]
  },
  {
   "cell_type": "code",
   "execution_count": 2,
   "metadata": {},
   "outputs": [
    {
     "data": {
      "text/plain": [
       "'f:\\\\Files\\\\DS&ML\\\\Flight-Fare-Price-Prediction\\\\Exp'"
      ]
     },
     "execution_count": 2,
     "metadata": {},
     "output_type": "execute_result"
    }
   ],
   "source": [
    "%pwd"
   ]
  },
  {
   "cell_type": "code",
   "execution_count": 3,
   "metadata": {},
   "outputs": [],
   "source": [
    "os.chdir('../')"
   ]
  },
  {
   "cell_type": "code",
   "execution_count": 4,
   "metadata": {},
   "outputs": [
    {
     "data": {
      "text/plain": [
       "'f:\\\\Files\\\\DS&ML\\\\Flight-Fare-Price-Prediction'"
      ]
     },
     "execution_count": 4,
     "metadata": {},
     "output_type": "execute_result"
    }
   ],
   "source": [
    "%pwd"
   ]
  },
  {
   "cell_type": "code",
   "execution_count": 5,
   "metadata": {},
   "outputs": [],
   "source": [
    "from dataclasses import dataclass\n",
    "from pathlib import Path"
   ]
  },
  {
   "cell_type": "code",
   "execution_count": 6,
   "metadata": {},
   "outputs": [],
   "source": [
    "@dataclass\n",
    "class ModelEvaluationConfig:\n",
    "    root_dir: Path\n",
    "    model_path: Path\n",
    "    test_raw_data: Path\n",
    "    all_params: dict\n",
    "    metric_file_path: Path\n",
    "    preprocessor_path: Path\n",
    "    target_column: str"
   ]
  },
  {
   "cell_type": "code",
   "execution_count": 7,
   "metadata": {},
   "outputs": [],
   "source": [
    "from mlproject.utils.common import *\n",
    "from mlproject.constants import *"
   ]
  },
  {
   "cell_type": "code",
   "execution_count": 8,
   "metadata": {},
   "outputs": [],
   "source": [
    "class ConfigurationManager:\n",
    "    def __init__(\n",
    "        self,\n",
    "        config_filepath=CONFIG_FILE_PATH,\n",
    "        params_filepath=PARAMS_FILE_PATH,\n",
    "        schema_filepath=SCHEMA_FILE_PATH,\n",
    "    ):\n",
    "        self.config = read_yaml(config_filepath)\n",
    "        self.params = read_yaml(params_filepath)\n",
    "        self.schema = read_yaml(schema_filepath)\n",
    "\n",
    "        create_directories([self.config[\"artifacts_root\"]])\n",
    "\n",
    "\n",
    "    def get_model_evaluation_config(self) -> ModelEvaluationConfig:\n",
    "        config = self.config.model_evaluation\n",
    "        params = self.params.GradientBoostingRegressor\n",
    "        schema = self.schema.TARGET_COLUMN\n",
    "\n",
    "        create_directories([config.root_dir])\n",
    "\n",
    "        model_evaluation_config = ModelEvaluationConfig(\n",
    "            root_dir=config.root_dir,\n",
    "            test_raw_data=config.test_raw_data,\n",
    "            model_path=config.model_path,\n",
    "            all_params=params,\n",
    "            metric_file_path=config.metric_file_path,\n",
    "            preprocessor_path=config.preprocessor_path,\n",
    "            target_column=schema.name,\n",
    "        )\n",
    "        return model_evaluation_config"
   ]
  },
  {
   "cell_type": "code",
   "execution_count": 9,
   "metadata": {},
   "outputs": [],
   "source": [
    "from sklearn.metrics import mean_squared_error, mean_absolute_error, r2_score\n",
    "import pandas as pd\n",
    "import joblib\n",
    "import json\n",
    "import mlflow\n",
    "import dagshub\n"
   ]
  },
  {
   "cell_type": "code",
   "execution_count": 10,
   "metadata": {},
   "outputs": [],
   "source": [
    "class ModelEvaluation:\n",
    "    def __init__(self, config: ModelEvaluationConfig):\n",
    "        self.config = config\n",
    "\n",
    "        # Initialize MLflow tracking\n",
    "        os.environ['MLFLOW_TRACKING_USERNAME'] = \"JavithNaseem-J\"\n",
    "        os.environ['MLFLOW_TRACKING_PASSWORD'] = \"f4e2b4e74fa3a3ae5b91b9b918dab74745cecd30\"\n",
    "        \n",
    "        dagshub.init(repo_owner=\"JavithNaseem-J\", repo_name=\"Flight-Fare-Price-Prediction\")\n",
    "        mlflow.set_tracking_uri(\"https://dagshub.com/JavithNaseem-J/Flight-Fare-Price-Prediction.mlflow\")\n",
    "        mlflow.set_experiment(\"Flight-Fare-Price-Prediction\")\n",
    "\n",
    "    def evaluate(self):\n",
    "        try:\n",
    "            if not Path(self.config.test_raw_data).exists():\n",
    "                raise FileNotFoundError(f\"Test data file not found at {self.config.test_raw_data}\")\n",
    "            if not Path(self.config.preprocessor_path).exists():\n",
    "                raise FileNotFoundError(f\"Preprocessor file not found at {self.config.preprocessor_path}\")\n",
    "            if not Path(self.config.model_path).exists():\n",
    "                raise FileNotFoundError(f\"Model file not found at {self.config.model_path}\")\n",
    "\n",
    "            with mlflow.start_run():\n",
    "                # Set tags for the run\n",
    "                mlflow.set_tag(\"model_type\", \"GradientBoostingRegressor\")\n",
    "                mlflow.set_tag(\"evaluation_stage\", \"testing\")\n",
    "\n",
    "                logger.info(\"Loading preprocessor and model...\")\n",
    "                preprocessor = joblib.load(self.config.preprocessor_path)\n",
    "                model = joblib.load(self.config.model_path)\n",
    "\n",
    "                # Log model parameters\n",
    "                mlflow.log_params(self.config.all_params)\n",
    "\n",
    "                logger.info(f\"Loading test data from {self.config.test_raw_data}...\")\n",
    "                test_data = pd.read_csv(self.config.test_raw_data)\n",
    "                \n",
    "                # Normalize column names to lowercase\n",
    "                test_data.columns = test_data.columns\n",
    "                target_column = self.config.target_column\n",
    "\n",
    "                # Extract target column\n",
    "                if target_column not in test_data.columns:\n",
    "                    raise KeyError(f\"Target column '{target_column}' not found in test data. Available columns: {list(test_data.columns)}\")\n",
    "\n",
    "                test_y = test_data[target_column]\n",
    "                test_x = test_data.drop(columns=[target_column])\n",
    "\n",
    "                logger.info(f\"Test data shape: X={test_x.shape}, y={test_y.shape}\")\n",
    "\n",
    "                logger.info(\"Preprocessing test features...\")\n",
    "                test_x_transformed = preprocessor.transform(test_x)\n",
    "\n",
    "                logger.info(\"Making predictions on the test data...\")\n",
    "                predictions = model.predict(test_x_transformed)\n",
    "\n",
    "                logger.info(\"Evaluating model performance...\")\n",
    "                mse = mean_squared_error(test_y, predictions)\n",
    "                mae = mean_absolute_error(test_y, predictions)\n",
    "                r2 = r2_score(test_y, predictions)\n",
    "                \n",
    "\n",
    "                # Create metrics dictionary\n",
    "                metrics = {\n",
    "                    \"mean_squared_error\": mse,\n",
    "                    \"mean_absolute_error\": mae,\n",
    "                    \"r2_score\": r2\n",
    "                }\n",
    "                \n",
    "                logger.info(metrics)\n",
    "                \n",
    "                # Log metrics to MLflow\n",
    "                mlflow.log_metrics(metrics)\n",
    "\n",
    "                # Log model with signature\n",
    "                signature = mlflow.models.infer_signature(\n",
    "                    test_x_transformed, predictions\n",
    "                )\n",
    "                mlflow.sklearn.log_model(\n",
    "                    model,\n",
    "                    \"flight_fare_model\",  \n",
    "                    signature=signature,\n",
    "                    registered_model_name=\"Flight Fare Prediction\"\n",
    "                )\n",
    "\n",
    "                # Save metrics\n",
    "                metrics_file = Path(self.config.root_dir) / \"metrics.json\"\n",
    "                with open(metrics_file, \"w\") as f:\n",
    "                    json.dump(metrics, f, indent=4)\n",
    "                    \n",
    "                logger.info(f\"Evaluation metrics saved at {metrics_file}\")\n",
    "\n",
    "                return metrics\n",
    "\n",
    "        except Exception as e:\n",
    "            logger.error(f\"Error in model evaluation: {str(e)}\")\n",
    "            raise e\n"
   ]
  },
  {
   "cell_type": "code",
   "execution_count": 11,
   "metadata": {},
   "outputs": [
    {
     "name": "stdout",
     "output_type": "stream",
     "text": [
      "[2025-04-21 23:04:38,172: INFO: common: yaml file: config\\config.yaml loaded successfully]\n",
      "[2025-04-21 23:04:38,173: INFO: common: yaml file: params.yaml loaded successfully]\n",
      "[2025-04-21 23:04:38,185: INFO: common: yaml file: schema.yaml loaded successfully]\n",
      "[2025-04-21 23:04:38,188: INFO: common: created directory at: artifacts]\n",
      "[2025-04-21 23:04:38,189: INFO: common: created directory at: artifacts/model_evaluation]\n",
      "[2025-04-21 23:04:38,603: INFO: _client: HTTP Request: GET https://dagshub.com/api/v1/user \"HTTP/1.1 200 OK\"]\n"
     ]
    },
    {
     "data": {
      "text/html": [
       "<pre style=\"white-space:pre;overflow-x:auto;line-height:normal;font-family:Menlo,'DejaVu Sans Mono',consolas,'Courier New',monospace\">Accessing as JavithNaseem-J\n",
       "</pre>\n"
      ],
      "text/plain": [
       "Accessing as JavithNaseem-J\n"
      ]
     },
     "metadata": {},
     "output_type": "display_data"
    },
    {
     "name": "stdout",
     "output_type": "stream",
     "text": [
      "[2025-04-21 23:04:38,619: INFO: helpers: Accessing as JavithNaseem-J]\n",
      "[2025-04-21 23:04:39,015: INFO: _client: HTTP Request: GET https://dagshub.com/api/v1/repos/JavithNaseem-J/Flight-Fare-Price-Prediction \"HTTP/1.1 200 OK\"]\n",
      "[2025-04-21 23:04:39,405: INFO: _client: HTTP Request: GET https://dagshub.com/api/v1/user \"HTTP/1.1 200 OK\"]\n"
     ]
    },
    {
     "data": {
      "text/html": [
       "<pre style=\"white-space:pre;overflow-x:auto;line-height:normal;font-family:Menlo,'DejaVu Sans Mono',consolas,'Courier New',monospace\">Initialized MLflow to track repo <span style=\"color: #008000; text-decoration-color: #008000\">\"JavithNaseem-J/Flight-Fare-Price-Prediction\"</span>\n",
       "</pre>\n"
      ],
      "text/plain": [
       "Initialized MLflow to track repo \u001b[32m\"JavithNaseem-J/Flight-Fare-Price-Prediction\"\u001b[0m\n"
      ]
     },
     "metadata": {},
     "output_type": "display_data"
    },
    {
     "name": "stdout",
     "output_type": "stream",
     "text": [
      "[2025-04-21 23:04:39,412: INFO: helpers: Initialized MLflow to track repo \"JavithNaseem-J/Flight-Fare-Price-Prediction\"]\n"
     ]
    },
    {
     "data": {
      "text/html": [
       "<pre style=\"white-space:pre;overflow-x:auto;line-height:normal;font-family:Menlo,'DejaVu Sans Mono',consolas,'Courier New',monospace\">Repository JavithNaseem-J/Flight-Fare-Price-Prediction initialized!\n",
       "</pre>\n"
      ],
      "text/plain": [
       "Repository JavithNaseem-J/Flight-Fare-Price-Prediction initialized!\n"
      ]
     },
     "metadata": {},
     "output_type": "display_data"
    },
    {
     "name": "stdout",
     "output_type": "stream",
     "text": [
      "[2025-04-21 23:04:39,418: INFO: helpers: Repository JavithNaseem-J/Flight-Fare-Price-Prediction initialized!]\n",
      "[2025-04-21 23:04:41,242: INFO: 1784283822: Loading preprocessor and model...]\n",
      "[2025-04-21 23:04:41,885: INFO: 1784283822: Loading test data from artifacts/data_transformation/test.csv...]\n",
      "[2025-04-21 23:04:41,917: INFO: 1784283822: Test data shape: X=(14250, 9), y=(14250,)]\n",
      "[2025-04-21 23:04:41,917: INFO: 1784283822: Preprocessing test features...]\n",
      "[2025-04-21 23:04:41,924: INFO: 1784283822: Making predictions on the test data...]\n",
      "[2025-04-21 23:04:41,969: INFO: 1784283822: Evaluating model performance...]\n",
      "[2025-04-21 23:04:41,973: INFO: 1784283822: {'mean_squared_error': 0.2193376383129778, 'mean_absolute_error': 0.3601831432532933, 'r2_score': 0.8895826111244571}]\n"
     ]
    },
    {
     "name": "stderr",
     "output_type": "stream",
     "text": [
      "Registered model 'Flight Fare Prediction' already exists. Creating a new version of this model...\n",
      "2025/04/21 23:04:57 INFO mlflow.store.model_registry.abstract_store: Waiting up to 300 seconds for model version to finish creation. Model name: Flight Fare Prediction, version 24\n"
     ]
    },
    {
     "name": "stdout",
     "output_type": "stream",
     "text": [
      "[2025-04-21 23:04:57,098: INFO: 1784283822: Evaluation metrics saved at artifacts\\model_evaluation\\metrics.json]\n"
     ]
    },
    {
     "name": "stderr",
     "output_type": "stream",
     "text": [
      "Created version '24' of model 'Flight Fare Prediction'.\n"
     ]
    },
    {
     "name": "stdout",
     "output_type": "stream",
     "text": [
      "🏃 View run intelligent-slug-48 at: https://dagshub.com/JavithNaseem-J/Flight-Fare-Price-Prediction.mlflow/#/experiments/0/runs/7047cf4ee4d04082a789e7f6876f1fe7\n",
      "🧪 View experiment at: https://dagshub.com/JavithNaseem-J/Flight-Fare-Price-Prediction.mlflow/#/experiments/0\n"
     ]
    }
   ],
   "source": [
    "try:\n",
    "    config = ConfigurationManager()\n",
    "    model_evaluation_config = config.get_model_evaluation_config()\n",
    "    model_evaluation = ModelEvaluation(config=model_evaluation_config)\n",
    "    metrics = model_evaluation.evaluate()\n",
    "\n",
    "except FileNotFoundError as e:\n",
    "    logger.error(f\"File not found: {e}\")\n",
    "except KeyError as e:\n",
    "    logger.error(f\"Missing key in configuration or data: {e}\")\n",
    "except Exception as e:\n",
    "    logger.error(f\"Unexpected error: {e}\")"
   ]
  }
 ],
 "metadata": {
  "kernelspec": {
   "display_name": "flight-fare",
   "language": "python",
   "name": "python3"
  },
  "language_info": {
   "codemirror_mode": {
    "name": "ipython",
    "version": 3
   },
   "file_extension": ".py",
   "mimetype": "text/x-python",
   "name": "python",
   "nbconvert_exporter": "python",
   "pygments_lexer": "ipython3",
   "version": "3.10.16"
  }
 },
 "nbformat": 4,
 "nbformat_minor": 2
}
