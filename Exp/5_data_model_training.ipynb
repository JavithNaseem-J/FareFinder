{
 "cells": [
  {
   "cell_type": "code",
   "execution_count": 2,
   "metadata": {},
   "outputs": [],
   "source": [
    "import os"
   ]
  },
  {
   "cell_type": "code",
   "execution_count": 3,
   "metadata": {},
   "outputs": [
    {
     "data": {
      "text/plain": [
       "'f:\\\\Files\\\\DS&ML\\\\Flight-Fare-Price-Prediction\\\\Exp'"
      ]
     },
     "execution_count": 3,
     "metadata": {},
     "output_type": "execute_result"
    }
   ],
   "source": [
    "%pwd"
   ]
  },
  {
   "cell_type": "code",
   "execution_count": 4,
   "metadata": {},
   "outputs": [
    {
     "data": {
      "text/plain": [
       "'f:\\\\Files\\\\DS&ML\\\\Flight-Fare-Price-Prediction'"
      ]
     },
     "execution_count": 4,
     "metadata": {},
     "output_type": "execute_result"
    }
   ],
   "source": [
    "os.chdir('../')\n",
    "%pwd"
   ]
  },
  {
   "cell_type": "code",
   "execution_count": 5,
   "metadata": {},
   "outputs": [],
   "source": [
    "from dataclasses import dataclass\n",
    "from pathlib import Path\n",
    "\n",
    "@dataclass(frozen=True)\n",
    "class ModelTrainerConfig:\n",
    "    root_dir: Path\n",
    "    train_data_path: Path\n",
    "    test_data_path: Path\n",
    "    model_name: str\n",
    "    target_column: str\n",
    "    random_search_params: dict\n",
    "    n_iter: int     \n",
    "    cv_folds: int\n",
    "    scoring: str \n",
    "    n_jobs: int"
   ]
  },
  {
   "cell_type": "code",
   "execution_count": 6,
   "metadata": {},
   "outputs": [],
   "source": [
    "from mlproject.constants import *\n",
    "from mlproject.utils.common import read_yaml,create_directories"
   ]
  },
  {
   "cell_type": "code",
   "execution_count": 7,
   "metadata": {},
   "outputs": [],
   "source": [
    "class ConfigurationManager:\n",
    "    def __init__(\n",
    "        self,\n",
    "        config_filepath = CONFIG_FILE_PATH,\n",
    "        params_filepath = PARAMS_FILE_PATH,\n",
    "        schema_filepath = SCHEMA_FILE_PATH):\n",
    "\n",
    "        self.config = read_yaml(config_filepath)\n",
    "        self.params = read_yaml(params_filepath)\n",
    "        self.schema = read_yaml(schema_filepath)\n",
    "\n",
    "        create_directories([self.config.artifacts_root])\n",
    "\n",
    "\n",
    "    def get_model_training_config(self) -> ModelTrainerConfig:\n",
    "        config = self.config.model_trainer\n",
    "        params = self.params.GradientBoostingRegressor\n",
    "        schema = self.schema\n",
    "        random_search_params = params.random_search\n",
    "        cv_params = params.cross_validation\n",
    "\n",
    "        create_directories([config.root_dir])\n",
    "\n",
    "        model_trainer_config = ModelTrainerConfig(\n",
    "            root_dir=config.root_dir,\n",
    "            train_data_path=config.train_data_path,\n",
    "            test_data_path=config.test_data_path,\n",
    "            model_name=config.model_name,\n",
    "            target_column=schema.target_column.name,\n",
    "            random_search_params=random_search_params, \n",
    "            cv_folds=cv_params.cv_folds,            \n",
    "            scoring=cv_params.scoring,             \n",
    "            n_jobs=cv_params.n_jobs,\n",
    "            n_iter=cv_params.n_iter          \n",
    "        )\n",
    "        \n",
    "        return model_trainer_config"
   ]
  },
  {
   "cell_type": "code",
   "execution_count": 8,
   "metadata": {},
   "outputs": [],
   "source": [
    "from sklearn.ensemble import GradientBoostingRegressor\n",
    "from mlproject import logger\n",
    "import pandas as pd\n",
    "import joblib\n",
    "import numpy as np\n",
    "import mlflow\n",
    "import mlflow.sklearn\n",
    "import dagshub\n",
    "from sklearn.model_selection import RandomizedSearchCV"
   ]
  },
  {
   "cell_type": "code",
   "execution_count": null,
   "metadata": {},
   "outputs": [],
   "source": [
    "class ModelTrainer:\n",
    "    def __init__(self, config: ModelTrainerConfig):\n",
    "        self.config = config\n",
    "        dagshub.init(repo_owner=\"JavithNaseem-J\", repo_name=\"Flight-Fare-Price-Prediction\")\n",
    "        mlflow.set_tracking_uri(\"https://dagshub.com/JavithNaseem-J/Flight-Fare-Price-Prediction.mlflow\")\n",
    "        mlflow.set_experiment(\"Flight-Fare-Price-Prediction\")\n",
    "\n",
    "    def train(self):\n",
    "        # Validate file paths\n",
    "        if not os.path.exists(self.config.train_data_path):\n",
    "            logger.error(f\"Train preprocessed file not found at: {self.config.train_data_path}\")\n",
    "            raise FileNotFoundError(\"Train preprocessed file not found\")\n",
    "        if not os.path.exists(self.config.test_data_path):\n",
    "            logger.error(f\"Test preprocessed file not found at: {self.config.test_data_path}\")\n",
    "            raise FileNotFoundError(\"Test preprocessed file not found\")\n",
    "\n",
    "        # Load preprocessed data\n",
    "        train_data = np.load(self.config.train_data_path, allow_pickle=True)\n",
    "        test_data = np.load(self.config.test_data_path, allow_pickle=True)\n",
    "\n",
    "        logger.info(f'Loaded train and test data')\n",
    "        logger.info(f'Train data shape: {train_data.shape}')\n",
    "        logger.info(f'Test data shape: {test_data.shape}')\n",
    "\n",
    "        train_x = train_data[:, :-1]\n",
    "        train_y = train_data[:, -1]\n",
    "        test_x = test_data[:, :-1]\n",
    "        test_y = test_data[:, -1]\n",
    "\n",
    "    \n",
    "        mlflow.sklearn.autolog()  \n",
    "        with mlflow.start_run(run_name=\"RandomizedSearchCV_Tuning\"):\n",
    "            mlflow.set_tag(\"run_type\", \"hyperparameter_tuning\")\n",
    "            mlflow.set_tag(\"model\", \"GradientBoostingRegressor\")\n",
    "\n",
    "            logger.info('Initializing Randomized Search')\n",
    "\n",
    "            gradient_model = GradientBoostingRegressor()\n",
    "\n",
    "            param_dist = self.config.random_search_params\n",
    "\n",
    "            logger.info('>>>>>>>>>> ......Performing Randomized Search - this may take some time...... <<<<<<<<<')\n",
    "\n",
    "\n",
    "            random_search = RandomizedSearchCV(\n",
    "                estimator=gradient_model,\n",
    "                param_distributions=param_dist,\n",
    "                n_iter=self.config.n_iter,\n",
    "                cv=self.config.cv_folds,\n",
    "                scoring= self.config.scoring,\n",
    "                verbose=1,\n",
    "                n_jobs=self.config.n_jobs,\n",
    "                return_train_score=True\n",
    "            )\n",
    "            random_search.fit(train_x, train_y)\n",
    "\n",
    "            for i, (params, mean_score, std_score) in enumerate(zip(\n",
    "                    random_search.cv_results_[\"params\"],\n",
    "                    random_search.cv_results_[\"mean_test_score\"],\n",
    "                    random_search.cv_results_[\"std_test_score\"])):\n",
    "                \n",
    "                with mlflow.start_run(nested=True, run_name=f\"Trial_{i+1}\"):\n",
    "                    mlflow.set_tag(\"trial_number\", i + 1)\n",
    "                    mlflow.log_params(params)\n",
    "                    mlflow.log_metric(\"mean_accuracy\", mean_score)\n",
    "                    mlflow.log_metric(\"std_accuracy\", std_score)  \n",
    "                    logger.info(f\"Trial {i+1}: params={params}, mean_accuracy={mean_score:.4f}, std_accuracy={std_score:.4f}\")\n",
    "\n",
    "\n",
    "            best_model = random_search.best_estimator_\n",
    "            mlflow.sklearn.log_model(\n",
    "                gradient_model=best_model,\n",
    "                artifact_path=\"gradient_model\",\n",
    "                registered_model_name=\"Flight Fare Prediction\"\n",
    "            )\n",
    "            logger.info(\"Best model logged to MLflow\")\n",
    "\n",
    "            model_path = os.path.join(self.config.root_dir, self.config.model_name)\n",
    "            joblib.dump(random_search, model_path)\n",
    "            logger.info(f'Model saved locally at {model_path}')"
   ]
  },
  {
   "cell_type": "code",
   "execution_count": 10,
   "metadata": {},
   "outputs": [
    {
     "name": "stdout",
     "output_type": "stream",
     "text": [
      "[2025-04-24 20:16:46,341: INFO: common: yaml file: config\\config.yaml loaded successfully]\n",
      "[2025-04-24 20:16:46,341: INFO: common: yaml file: params.yaml loaded successfully]\n",
      "[2025-04-24 20:16:46,356: INFO: common: yaml file: schema.yaml loaded successfully]\n",
      "[2025-04-24 20:16:46,358: INFO: common: created directory at: artifacts]\n",
      "[2025-04-24 20:16:46,358: INFO: common: created directory at: artifacts/model_trainer]\n",
      "[2025-04-24 20:16:46,736: INFO: _client: HTTP Request: GET https://dagshub.com/api/v1/user \"HTTP/1.1 200 OK\"]\n"
     ]
    },
    {
     "data": {
      "text/html": [
       "<pre style=\"white-space:pre;overflow-x:auto;line-height:normal;font-family:Menlo,'DejaVu Sans Mono',consolas,'Courier New',monospace\">Accessing as JavithNaseem-J\n",
       "</pre>\n"
      ],
      "text/plain": [
       "Accessing as JavithNaseem-J\n"
      ]
     },
     "metadata": {},
     "output_type": "display_data"
    },
    {
     "name": "stdout",
     "output_type": "stream",
     "text": [
      "[2025-04-24 20:16:46,744: INFO: helpers: Accessing as JavithNaseem-J]\n",
      "[2025-04-24 20:16:47,118: INFO: _client: HTTP Request: GET https://dagshub.com/api/v1/repos/JavithNaseem-J/Flight-Fare-Price-Prediction \"HTTP/1.1 200 OK\"]\n",
      "[2025-04-24 20:16:47,452: INFO: _client: HTTP Request: GET https://dagshub.com/api/v1/user \"HTTP/1.1 200 OK\"]\n"
     ]
    },
    {
     "data": {
      "text/html": [
       "<pre style=\"white-space:pre;overflow-x:auto;line-height:normal;font-family:Menlo,'DejaVu Sans Mono',consolas,'Courier New',monospace\">Initialized MLflow to track repo <span style=\"color: #008000; text-decoration-color: #008000\">\"JavithNaseem-J/Flight-Fare-Price-Prediction\"</span>\n",
       "</pre>\n"
      ],
      "text/plain": [
       "Initialized MLflow to track repo \u001b[32m\"JavithNaseem-J/Flight-Fare-Price-Prediction\"\u001b[0m\n"
      ]
     },
     "metadata": {},
     "output_type": "display_data"
    },
    {
     "name": "stdout",
     "output_type": "stream",
     "text": [
      "[2025-04-24 20:16:47,452: INFO: helpers: Initialized MLflow to track repo \"JavithNaseem-J/Flight-Fare-Price-Prediction\"]\n"
     ]
    },
    {
     "data": {
      "text/html": [
       "<pre style=\"white-space:pre;overflow-x:auto;line-height:normal;font-family:Menlo,'DejaVu Sans Mono',consolas,'Courier New',monospace\">Repository JavithNaseem-J/Flight-Fare-Price-Prediction initialized!\n",
       "</pre>\n"
      ],
      "text/plain": [
       "Repository JavithNaseem-J/Flight-Fare-Price-Prediction initialized!\n"
      ]
     },
     "metadata": {},
     "output_type": "display_data"
    },
    {
     "name": "stdout",
     "output_type": "stream",
     "text": [
      "[2025-04-24 20:16:47,452: INFO: helpers: Repository JavithNaseem-J/Flight-Fare-Price-Prediction initialized!]\n",
      "[2025-04-24 20:16:47,920: INFO: 1598331663: Loaded train and test data]\n",
      "[2025-04-24 20:16:47,921: INFO: 1598331663: Train data shape: (42750, 10)]\n",
      "[2025-04-24 20:16:47,922: INFO: 1598331663: Test data shape: (14250, 10)]\n",
      "[2025-04-24 20:16:49,768: INFO: 1598331663: Initializing Randomized Search]\n",
      "[2025-04-24 20:16:49,769: INFO: 1598331663: >>>>>>>>>> ......Performing Randomized Search - this may take some time...... <<<<<<<<<]\n",
      "Fitting 5 folds for each of 10 candidates, totalling 50 fits\n"
     ]
    },
    {
     "name": "stderr",
     "output_type": "stream",
     "text": [
      "f:\\ProgramFiles\\anaconda3\\envs\\flight-fare\\lib\\site-packages\\sklearn\\model_selection\\_validation.py:528: FitFailedWarning: \n",
      "20 fits failed out of a total of 50.\n",
      "The score on these train-test partitions for these parameters will be set to nan.\n",
      "If these failures are not expected, you can try to debug them by setting error_score='raise'.\n",
      "\n",
      "Below are more details about the failures:\n",
      "--------------------------------------------------------------------------------\n",
      "14 fits failed with the following error:\n",
      "Traceback (most recent call last):\n",
      "  File \"f:\\ProgramFiles\\anaconda3\\envs\\flight-fare\\lib\\site-packages\\sklearn\\model_selection\\_validation.py\", line 866, in _fit_and_score\n",
      "    estimator.fit(X_train, y_train, **fit_params)\n",
      "  File \"f:\\ProgramFiles\\anaconda3\\envs\\flight-fare\\lib\\site-packages\\sklearn\\base.py\", line 1382, in wrapper\n",
      "    estimator._validate_params()\n",
      "  File \"f:\\ProgramFiles\\anaconda3\\envs\\flight-fare\\lib\\site-packages\\sklearn\\base.py\", line 436, in _validate_params\n",
      "    validate_parameter_constraints(\n",
      "  File \"f:\\ProgramFiles\\anaconda3\\envs\\flight-fare\\lib\\site-packages\\sklearn\\utils\\_param_validation.py\", line 98, in validate_parameter_constraints\n",
      "    raise InvalidParameterError(\n",
      "sklearn.utils._param_validation.InvalidParameterError: The 'max_features' parameter of GradientBoostingRegressor must be an int in the range [1, inf), a float in the range (0.0, 1.0], a str among {'sqrt', 'log2'} or None. Got 'None' instead.\n",
      "\n",
      "--------------------------------------------------------------------------------\n",
      "6 fits failed with the following error:\n",
      "Traceback (most recent call last):\n",
      "  File \"f:\\ProgramFiles\\anaconda3\\envs\\flight-fare\\lib\\site-packages\\sklearn\\model_selection\\_validation.py\", line 866, in _fit_and_score\n",
      "    estimator.fit(X_train, y_train, **fit_params)\n",
      "  File \"f:\\ProgramFiles\\anaconda3\\envs\\flight-fare\\lib\\site-packages\\sklearn\\base.py\", line 1382, in wrapper\n",
      "    estimator._validate_params()\n",
      "  File \"f:\\ProgramFiles\\anaconda3\\envs\\flight-fare\\lib\\site-packages\\sklearn\\base.py\", line 436, in _validate_params\n",
      "    validate_parameter_constraints(\n",
      "  File \"f:\\ProgramFiles\\anaconda3\\envs\\flight-fare\\lib\\site-packages\\sklearn\\utils\\_param_validation.py\", line 98, in validate_parameter_constraints\n",
      "    raise InvalidParameterError(\n",
      "sklearn.utils._param_validation.InvalidParameterError: The 'max_features' parameter of GradientBoostingRegressor must be an int in the range [1, inf), a float in the range (0.0, 1.0], a str among {'log2', 'sqrt'} or None. Got 'None' instead.\n",
      "\n",
      "  warnings.warn(some_fits_failed_message, FitFailedWarning)\n",
      "f:\\ProgramFiles\\anaconda3\\envs\\flight-fare\\lib\\site-packages\\sklearn\\model_selection\\_search.py:1108: UserWarning: One or more of the test scores are non-finite: [0.86380657        nan        nan 0.87810374 0.22178339 0.88342127\n",
      "        nan 0.47376132        nan 0.75617575]\n",
      "  warnings.warn(\n",
      "f:\\ProgramFiles\\anaconda3\\envs\\flight-fare\\lib\\site-packages\\sklearn\\model_selection\\_search.py:1108: UserWarning: One or more of the train scores are non-finite: [0.86984275        nan        nan 0.88035869 0.22215368 0.89269133\n",
      "        nan 0.47587389        nan 0.75881698]\n",
      "  warnings.warn(\n",
      "2025/04/24 20:17:41 INFO mlflow.sklearn.utils: Logging the 5 best runs, 5 runs will be omitted.\n"
     ]
    },
    {
     "name": "stdout",
     "output_type": "stream",
     "text": [
      "🏃 View run clean-ray-155 at: https://dagshub.com/JavithNaseem-J/Flight-Fare-Price-Prediction.mlflow/#/experiments/0/runs/624659eae8d1435fa27363ab8072d02b\n",
      "🧪 View experiment at: https://dagshub.com/JavithNaseem-J/Flight-Fare-Price-Prediction.mlflow/#/experiments/0\n",
      "🏃 View run respected-koi-57 at: https://dagshub.com/JavithNaseem-J/Flight-Fare-Price-Prediction.mlflow/#/experiments/0/runs/09b57cc5de1d45109fe36f8217ba6473\n",
      "🧪 View experiment at: https://dagshub.com/JavithNaseem-J/Flight-Fare-Price-Prediction.mlflow/#/experiments/0\n",
      "🏃 View run powerful-bee-841 at: https://dagshub.com/JavithNaseem-J/Flight-Fare-Price-Prediction.mlflow/#/experiments/0/runs/edcbf0cbabe44f9f9ad20068324df96b\n",
      "🧪 View experiment at: https://dagshub.com/JavithNaseem-J/Flight-Fare-Price-Prediction.mlflow/#/experiments/0\n",
      "🏃 View run placid-snipe-801 at: https://dagshub.com/JavithNaseem-J/Flight-Fare-Price-Prediction.mlflow/#/experiments/0/runs/8020473755184160987a4255ef52ef2a\n",
      "🧪 View experiment at: https://dagshub.com/JavithNaseem-J/Flight-Fare-Price-Prediction.mlflow/#/experiments/0\n",
      "🏃 View run burly-croc-812 at: https://dagshub.com/JavithNaseem-J/Flight-Fare-Price-Prediction.mlflow/#/experiments/0/runs/f468e0d507bd47c0ae708a40765bce21\n",
      "🧪 View experiment at: https://dagshub.com/JavithNaseem-J/Flight-Fare-Price-Prediction.mlflow/#/experiments/0\n",
      "[2025-04-24 20:18:00,490: INFO: 1598331663: Trial 1: params={'subsample': 0.6, 'n_estimators': 100, 'min_samples_split': 10, 'min_samples_leaf': 4, 'max_features': 'sqrt', 'max_depth': 5, 'loss': 'huber', 'learning_rate': 0.1}, mean_accuracy=0.8638, std_accuracy=0.0035]\n",
      "🏃 View run Trial_1 at: https://dagshub.com/JavithNaseem-J/Flight-Fare-Price-Prediction.mlflow/#/experiments/0/runs/a52066aa81054592b4ef7d6c6939d15b\n",
      "🧪 View experiment at: https://dagshub.com/JavithNaseem-J/Flight-Fare-Price-Prediction.mlflow/#/experiments/0\n",
      "[2025-04-24 20:18:07,492: INFO: 1598331663: Trial 2: params={'subsample': 0.8, 'n_estimators': 200, 'min_samples_split': 5, 'min_samples_leaf': 4, 'max_features': 'None', 'max_depth': 5, 'loss': 'huber', 'learning_rate': 0.01}, mean_accuracy=nan, std_accuracy=nan]\n",
      "🏃 View run Trial_2 at: https://dagshub.com/JavithNaseem-J/Flight-Fare-Price-Prediction.mlflow/#/experiments/0/runs/4882104ce8b7442e9fc728337d5fbca8\n",
      "🧪 View experiment at: https://dagshub.com/JavithNaseem-J/Flight-Fare-Price-Prediction.mlflow/#/experiments/0\n",
      "[2025-04-24 20:18:14,493: INFO: 1598331663: Trial 3: params={'subsample': 1.0, 'n_estimators': 50, 'min_samples_split': 10, 'min_samples_leaf': 1, 'max_features': 'None', 'max_depth': 5, 'loss': 'absolute_error', 'learning_rate': 0.2}, mean_accuracy=nan, std_accuracy=nan]\n",
      "🏃 View run Trial_3 at: https://dagshub.com/JavithNaseem-J/Flight-Fare-Price-Prediction.mlflow/#/experiments/0/runs/45d2fe09d46b4a9d9d7d1fcecd51f0e0\n",
      "🧪 View experiment at: https://dagshub.com/JavithNaseem-J/Flight-Fare-Price-Prediction.mlflow/#/experiments/0\n",
      "[2025-04-24 20:18:21,518: INFO: 1598331663: Trial 4: params={'subsample': 1.0, 'n_estimators': 200, 'min_samples_split': 5, 'min_samples_leaf': 1, 'max_features': 'sqrt', 'max_depth': 3, 'loss': 'absolute_error', 'learning_rate': 0.2}, mean_accuracy=0.8781, std_accuracy=0.0020]\n",
      "🏃 View run Trial_4 at: https://dagshub.com/JavithNaseem-J/Flight-Fare-Price-Prediction.mlflow/#/experiments/0/runs/3c63b7462e2a4ffd845b169375cf57d0\n",
      "🧪 View experiment at: https://dagshub.com/JavithNaseem-J/Flight-Fare-Price-Prediction.mlflow/#/experiments/0\n",
      "[2025-04-24 20:18:28,479: INFO: 1598331663: Trial 5: params={'subsample': 1.0, 'n_estimators': 50, 'min_samples_split': 10, 'min_samples_leaf': 1, 'max_features': 'log2', 'max_depth': 3, 'loss': 'huber', 'learning_rate': 0.01}, mean_accuracy=0.2218, std_accuracy=0.0052]\n",
      "🏃 View run Trial_5 at: https://dagshub.com/JavithNaseem-J/Flight-Fare-Price-Prediction.mlflow/#/experiments/0/runs/aa03dd9353b648429c84a6a3792042c2\n",
      "🧪 View experiment at: https://dagshub.com/JavithNaseem-J/Flight-Fare-Price-Prediction.mlflow/#/experiments/0\n",
      "[2025-04-24 20:18:35,491: INFO: 1598331663: Trial 6: params={'subsample': 0.6, 'n_estimators': 200, 'min_samples_split': 10, 'min_samples_leaf': 2, 'max_features': 'sqrt', 'max_depth': 5, 'loss': 'huber', 'learning_rate': 0.1}, mean_accuracy=0.8834, std_accuracy=0.0020]\n",
      "🏃 View run Trial_6 at: https://dagshub.com/JavithNaseem-J/Flight-Fare-Price-Prediction.mlflow/#/experiments/0/runs/c1207683c94342f2a440800b4d1f0f3c\n",
      "🧪 View experiment at: https://dagshub.com/JavithNaseem-J/Flight-Fare-Price-Prediction.mlflow/#/experiments/0\n",
      "[2025-04-24 20:18:42,477: INFO: 1598331663: Trial 7: params={'subsample': 0.6, 'n_estimators': 100, 'min_samples_split': 5, 'min_samples_leaf': 2, 'max_features': 'None', 'max_depth': 4, 'loss': 'absolute_error', 'learning_rate': 0.1}, mean_accuracy=nan, std_accuracy=nan]\n",
      "🏃 View run Trial_7 at: https://dagshub.com/JavithNaseem-J/Flight-Fare-Price-Prediction.mlflow/#/experiments/0/runs/3af55fe4272c4975b98ca58b6de903b5\n",
      "🧪 View experiment at: https://dagshub.com/JavithNaseem-J/Flight-Fare-Price-Prediction.mlflow/#/experiments/0\n",
      "[2025-04-24 20:18:49,479: INFO: 1598331663: Trial 8: params={'subsample': 0.6, 'n_estimators': 100, 'min_samples_split': 5, 'min_samples_leaf': 1, 'max_features': 'log2', 'max_depth': 5, 'loss': 'huber', 'learning_rate': 0.01}, mean_accuracy=0.4738, std_accuracy=0.0058]\n",
      "🏃 View run Trial_8 at: https://dagshub.com/JavithNaseem-J/Flight-Fare-Price-Prediction.mlflow/#/experiments/0/runs/2c00cb044b1443aebd0f6e6ae3d60f64\n",
      "🧪 View experiment at: https://dagshub.com/JavithNaseem-J/Flight-Fare-Price-Prediction.mlflow/#/experiments/0\n",
      "[2025-04-24 20:18:56,492: INFO: 1598331663: Trial 9: params={'subsample': 0.8, 'n_estimators': 200, 'min_samples_split': 5, 'min_samples_leaf': 2, 'max_features': 'None', 'max_depth': 3, 'loss': 'absolute_error', 'learning_rate': 0.1}, mean_accuracy=nan, std_accuracy=nan]\n",
      "🏃 View run Trial_9 at: https://dagshub.com/JavithNaseem-J/Flight-Fare-Price-Prediction.mlflow/#/experiments/0/runs/e336bc183ad04af583f31ffb47c47657\n",
      "🧪 View experiment at: https://dagshub.com/JavithNaseem-J/Flight-Fare-Price-Prediction.mlflow/#/experiments/0\n",
      "[2025-04-24 20:19:03,498: INFO: 1598331663: Trial 10: params={'subsample': 0.8, 'n_estimators': 100, 'min_samples_split': 10, 'min_samples_leaf': 1, 'max_features': 'sqrt', 'max_depth': 3, 'loss': 'huber', 'learning_rate': 0.1}, mean_accuracy=0.7562, std_accuracy=0.0140]\n",
      "🏃 View run Trial_10 at: https://dagshub.com/JavithNaseem-J/Flight-Fare-Price-Prediction.mlflow/#/experiments/0/runs/a94d5e8eb5804a67ae80fc92fb1e7f1e\n",
      "🧪 View experiment at: https://dagshub.com/JavithNaseem-J/Flight-Fare-Price-Prediction.mlflow/#/experiments/0\n",
      "🏃 View run RandomizedSearchCV_Tuning at: https://dagshub.com/JavithNaseem-J/Flight-Fare-Price-Prediction.mlflow/#/experiments/0/runs/58ec412a2a0b4d5cb2b23c4957124c26\n",
      "🧪 View experiment at: https://dagshub.com/JavithNaseem-J/Flight-Fare-Price-Prediction.mlflow/#/experiments/0\n",
      "[2025-04-24 20:19:07,469: ERROR: 1098855349: Unexpected error: log_model() got an unexpected keyword argument 'xgb_model']\n"
     ]
    }
   ],
   "source": [
    "try:\n",
    "    config = ConfigurationManager()\n",
    "    model_trainer_config = config.get_model_training_config()\n",
    "    model_trainer_config = ModelTrainer(config=model_trainer_config)\n",
    "    model_trainer_config.train()\n",
    "\n",
    "except FileNotFoundError as e:\n",
    "    logger.error(f\"File not found: {e}\")\n",
    "except KeyError as e:\n",
    "    logger.error(f\"Missing key in configuration: {e}\")\n",
    "except Exception as e:\n",
    "    logger.error(f\"Unexpected error: {e}\")"
   ]
  }
 ],
 "metadata": {
  "kernelspec": {
   "display_name": "flight-fare",
   "language": "python",
   "name": "python3"
  },
  "language_info": {
   "codemirror_mode": {
    "name": "ipython",
    "version": 3
   },
   "file_extension": ".py",
   "mimetype": "text/x-python",
   "name": "python",
   "nbconvert_exporter": "python",
   "pygments_lexer": "ipython3",
   "version": "3.10.16"
  }
 },
 "nbformat": 4,
 "nbformat_minor": 2
}
